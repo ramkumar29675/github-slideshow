{
  "nbformat": 4,
  "nbformat_minor": 0,
  "metadata": {
    "colab": {
      "name": "Untitled10.ipynb",
      "provenance": [],
      "collapsed_sections": [],
      "authorship_tag": "ABX9TyN5FAHVD3HS3KaGn4k5/4LG",
      "include_colab_link": true
    },
    "kernelspec": {
      "name": "python3",
      "display_name": "Python 3"
    },
    "language_info": {
      "name": "python"
    }
  },
  "cells": [
    {
      "cell_type": "markdown",
      "metadata": {
        "id": "view-in-github",
        "colab_type": "text"
      },
      "source": [
        "<a href=\"https://colab.research.google.com/github/ramkumar29675/github-slideshow/blob/master/list%20and%20if%20else%20and%20nested%20if.ipynb\" target=\"_parent\"><img src=\"https://colab.research.google.com/assets/colab-badge.svg\" alt=\"Open In Colab\"/></a>"
      ]
    },
    {
      "cell_type": "code",
      "metadata": {
        "colab": {
          "base_uri": "https://localhost:8080/"
        },
        "id": "_Hlii6x0p1uL",
        "outputId": "eef53a07-d1f5-4484-bf1f-017c5d627813"
      },
      "source": [
        "a=57\n",
        "b=36\n",
        "if a>b:\n",
        "  print('a is greater than b')\n",
        "else:\n",
        "  prnt('b is greater than a')  "
      ],
      "execution_count": null,
      "outputs": [
        {
          "output_type": "stream",
          "text": [
            "a is greater than b\n"
          ],
          "name": "stdout"
        }
      ]
    },
    {
      "cell_type": "code",
      "metadata": {
        "colab": {
          "base_uri": "https://localhost:8080/"
        },
        "id": "m32RNwJmqO5C",
        "outputId": "be4253e8-3af3-4500-cf2e-655383d5d2cf"
      },
      "source": [
        "a=int(input('enter first number'))\n",
        "b=int(input('enter second number'))\n",
        "c=int(input('enter third number'))\n",
        "if a>=b and a>=c:\n",
        "  greatest=a\n",
        "elif b>=a and b>=c:\n",
        "  greatest=b\n",
        "else:\n",
        "  greatest=c\n",
        "print('the greatest number is:', greatest )  "
      ],
      "execution_count": 19,
      "outputs": [
        {
          "output_type": "stream",
          "text": [
            "enter first number6\n",
            "enter second number5\n",
            "enter third number25\n",
            "the greatest number is: 25\n"
          ],
          "name": "stdout"
        }
      ]
    },
    {
      "cell_type": "code",
      "metadata": {
        "id": "IvM6a7t7w2rW"
      },
      "source": [
        ""
      ],
      "execution_count": null,
      "outputs": []
    },
    {
      "cell_type": "code",
      "metadata": {
        "id": "aLjVwgO8uPrE",
        "colab": {
          "base_uri": "https://localhost:8080/"
        },
        "outputId": "17284706-9bb9-420a-f2c8-9ba630aa476f"
      },
      "source": [
        "# Python program to find the largest number among the three input numbers\n",
        "\n",
        "# change the values of num1, num2 and num3\n",
        "# for a different result\n",
        "num1 = 10\n",
        "num2 = 14\n",
        "num3 = 126\n",
        "\n",
        "# uncomment following lines to take three numbers from user\n",
        "#num1 = float(input(\"Enter first number: \"))\n",
        "#num2 = float(input(\"Enter second number: \"))\n",
        "#num3 = float(input(\"Enter third number: \"))\n",
        "\n",
        "if (num1 >= num2) and (num1 >= num3):\n",
        "   largest = num1\n",
        "elif (num2 >= num1) and (num2 >= num3):\n",
        "   largest = num2\n",
        "else:\n",
        "   largest = num3\n",
        "\n",
        "print(\"The largest number is\", largest)"
      ],
      "execution_count": 11,
      "outputs": [
        {
          "output_type": "stream",
          "text": [
            "The largest number is 126\n"
          ],
          "name": "stdout"
        }
      ]
    },
    {
      "cell_type": "code",
      "metadata": {
        "colab": {
          "base_uri": "https://localhost:8080/"
        },
        "id": "qEr0GtVbw4TB",
        "outputId": "eeda73dc-75eb-4ad4-9463-8705c09231ed"
      },
      "source": [
        "#nested if else in python\n",
        "#program to check whether a number is positive or negative or zero\n",
        "num=float(input('enter a number'))\n",
        "if num>=0:\n",
        "  if num==0:\n",
        "     print('zero')\n",
        "  else:\n",
        "    print('positive number') \n",
        "else:\n",
        "  print('negative number')   \n"
      ],
      "execution_count": 23,
      "outputs": [
        {
          "output_type": "stream",
          "text": [
            "enter a number0\n",
            "zero\n"
          ],
          "name": "stdout"
        }
      ]
    },
    {
      "cell_type": "code",
      "metadata": {
        "id": "I6mclNwnxoNx"
      },
      "source": [
        ""
      ],
      "execution_count": null,
      "outputs": []
    }
  ]
}